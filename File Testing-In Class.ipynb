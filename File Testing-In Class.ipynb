{
 "cells": [
  {
   "cell_type": "markdown",
   "metadata": {},
   "source": [
    "In this notebook we'll work through some of the issues we will identify in class that we'll need to solve for the Wedge project. The key tasks are as follows:\n",
    "\n",
    "1. We need to get our file or files out of the zip file.\n",
    "1. We need to be able to read in the file. \n",
    "1. We need to do a few tests: looking for a header row, checking for delimiters, checking for quotes.\n",
    "1. We need to identify the owner number, which has index `45` in the row.\n",
    "1. We need to find the destination row.\n",
    "1. We need to write out the row. \n",
    "\n",
    "I've built some toy examples for us to play with in class. First, let's get a list of the files. The `os` package has a handy function `listdir` that will help. "
   ]
  },
  {
   "cell_type": "code",
   "execution_count": 4,
   "metadata": {},
   "outputs": [],
   "source": [
    "import os"
   ]
  },
  {
   "cell_type": "code",
   "execution_count": 5,
   "metadata": {},
   "outputs": [
    {
     "data": {
      "text/plain": [
       "['file1.zip',\n",
       " 'file2.zip',\n",
       " 'file3.zip',\n",
       " 'file4.zip',\n",
       " 'file5.zip',\n",
       " 'file_6_7.zip']"
      ]
     },
     "execution_count": 5,
     "metadata": {},
     "output_type": "execute_result"
    }
   ],
   "source": [
    "os.listdir(\"data\")\n",
    "#os.listdir()"
   ]
  },
  {
   "cell_type": "markdown",
   "metadata": {},
   "source": [
    "Let's save these files to a variable."
   ]
  },
  {
   "cell_type": "code",
   "execution_count": 6,
   "metadata": {},
   "outputs": [],
   "source": [
    "zip_files = os.listdir(\"data/\")"
   ]
  },
  {
   "cell_type": "markdown",
   "metadata": {},
   "source": [
    "## Working with Zip Files\n",
    "\n",
    "Zip files are complicated, but useful. Here's a nice description I found on [GeeksForGeeks](https://www.geeksforgeeks.org/working-zip-files-python/):\n",
    "\n",
    "> ZIP is an archive file format that supports lossless data compression. By lossless compression, we mean that the compression algorithm allows the original data to be perfectly reconstructed from the compressed data. So, a ZIP file is a single file containing one or more compressed files, offering an ideal way to make large files smaller and keep related files together.\n",
    "\n",
    "So, one tricky thing is that a zip file is a _file_ but it can also contain lots of other sub-files, so it acts like a _folder_ as well.\n",
    "\n",
    "Q: Why don't we just unzip all the Wedge files and skip the unzipping? \n",
    "\n",
    "A: ?? \n",
    "\n",
    "There's a useful package for working with zip files called ... `zipfile`. Might be worth bookmarking the manual [page](https://docs.python.org/3/library/zipfile.html) for it. We won't need the whole package, so we'll just import the _Class_ `ZipFile`."
   ]
  },
  {
   "cell_type": "code",
   "execution_count": 7,
   "metadata": {},
   "outputs": [],
   "source": [
    "from zipfile import ZipFile # usually you'd do all these imports at the beginning"
   ]
  },
  {
   "cell_type": "code",
   "execution_count": 8,
   "metadata": {},
   "outputs": [
    {
     "name": "stdout",
     "output_type": "stream",
     "text": [
      "File Name                                             Modified             Size\n",
      "file1.csv                                      2018-09-17 18:18:58         4177\n",
      "Extracting all the files now...\n",
      "Done!\n"
     ]
    }
   ],
   "source": [
    "# Let's extract one file from the first zip in our list\n",
    "\n",
    "# opening the zip file in READ mode \n",
    "with ZipFile(\"data/\" + zip_files[0], 'r') as zf : \n",
    "    # printing what's in the zip file.  \n",
    "    zf.printdir() \n",
    "  \n",
    "    # extracting all the files \n",
    "    print('Extracting all the files now...') \n",
    "    zf.extractall() \n",
    "    print('Done!') "
   ]
  },
  {
   "cell_type": "code",
   "execution_count": 9,
   "metadata": {},
   "outputs": [
    {
     "data": {
      "text/plain": [
       "['file1.zip',\n",
       " 'file2.zip',\n",
       " 'file3.zip',\n",
       " 'file4.zip',\n",
       " 'file5.zip',\n",
       " 'file_6_7.zip']"
      ]
     },
     "execution_count": 9,
     "metadata": {},
     "output_type": "execute_result"
    }
   ],
   "source": [
    "zip_files"
   ]
  },
  {
   "cell_type": "markdown",
   "metadata": {},
   "source": [
    "Look in the folder for this repository and you'll see that the file was extracted into this directory. (Q: Why this one?) Now, we don't want to do this in practice, so we'll try to just read the files in the zip file. Let's delete the file that we just extracted just to be clean. The `os` package has a helpful function (`remove`) for us. But we need to get the name of the file first."
   ]
  },
  {
   "cell_type": "code",
   "execution_count": 10,
   "metadata": {},
   "outputs": [
    {
     "data": {
      "text/plain": [
       "['file1.zip',\n",
       " 'file2.zip',\n",
       " 'file3.zip',\n",
       " 'file4.zip',\n",
       " 'file5.zip',\n",
       " 'file_6_7.zip']"
      ]
     },
     "execution_count": 10,
     "metadata": {},
     "output_type": "execute_result"
    }
   ],
   "source": [
    "zip_files"
   ]
  },
  {
   "cell_type": "code",
   "execution_count": 11,
   "metadata": {},
   "outputs": [
    {
     "name": "stdout",
     "output_type": "stream",
     "text": [
      "['file1.csv']\n",
      "['file2.csv']\n",
      "['file3.csv']\n",
      "['file4.csv']\n",
      "['file5.csv']\n",
      "['file6.csv', 'file7.csv']\n"
     ]
    }
   ],
   "source": [
    "for zip_file in zip_files :\n",
    "    with ZipFile(\"data/\" + zip_file, 'r') as zf :\n",
    "        print(zf.namelist())"
   ]
  },
  {
   "cell_type": "markdown",
   "metadata": {},
   "source": [
    "Q: what is `namelist` returning?\n",
    "\n",
    "A: Name list out of `file_1.zip`. This is a list of one element, which is a string. The string is the name of the underlying csv. "
   ]
  },
  {
   "cell_type": "code",
   "execution_count": 12,
   "metadata": {},
   "outputs": [],
   "source": [
    "# Now let's delete that spurious file we created\n",
    "with ZipFile(\"data/\" + zip_files[0], 'r') as zf :\n",
    "    this_file_list = zf.namelist()\n",
    "    #print(this_file_list)\n",
    "    os.remove(this_file_list[0])"
   ]
  },
  {
   "cell_type": "code",
   "execution_count": 13,
   "metadata": {},
   "outputs": [],
   "source": [
    "def clean_up_temp_folder(folder_name) : \n",
    "    # delete temporary directory\n",
    "\n",
    "    num_deleted = 0 \n",
    "    \n",
    "    # get files inside temp dir\n",
    "    files_to_delete = os.listdir(folder_name)\n",
    "\n",
    "    # delete them one at a time.\n",
    "    for file in files_to_delete :\n",
    "        os.remove(temp_folder_name + \"/\" + file)\n",
    "        num_deleted += 1\n",
    "\n",
    "    # remove the folder\n",
    "    os.rmdir(folder_name)\n",
    "    \n",
    "    print(f\"Just removed folder {folder_name}. We deleted {str(num_deleted)} files.\")\n",
    "    return(num_deleted)\n",
    "    "
   ]
  },
  {
   "cell_type": "code",
   "execution_count": 14,
   "metadata": {},
   "outputs": [],
   "source": [
    "# Make new directory\n",
    "temp_folder_name = \"temp\"\n",
    "\n",
    "if not os.path.isdir(temp_folder_name) : # if folder exists\n",
    "    os.mkdir(temp_folder_name)           # if not, make it\n",
    "\n",
    "# extract all zipfile contents to directory\n",
    "for zip_file in zip_files :\n",
    "    with ZipFile(\"data/\" + zip_file, 'r') as zf :\n",
    "        \n",
    "        # extract all contents to temporary folder\n",
    "        zf.extractall(path=temp_folder_name) \n"
   ]
  },
  {
   "cell_type": "code",
   "execution_count": 15,
   "metadata": {},
   "outputs": [
    {
     "name": "stdout",
     "output_type": "stream",
     "text": [
      "Just removed folder temp. We deleted 7 files.\n"
     ]
    },
    {
     "data": {
      "text/plain": [
       "7"
      ]
     },
     "execution_count": 15,
     "metadata": {},
     "output_type": "execute_result"
    }
   ],
   "source": [
    "clean_up_temp_folder(temp_folder_name)"
   ]
  },
  {
   "cell_type": "markdown",
   "metadata": {},
   "source": [
    "Now go check the folder for this repository on your machine and you'll see it's gone.\n",
    "\n",
    "In this next cell, write a loop over all the files in `zip_files` printing the contents to the screen."
   ]
  },
  {
   "cell_type": "code",
   "execution_count": 16,
   "metadata": {},
   "outputs": [
    {
     "name": "stdout",
     "output_type": "stream",
     "text": [
      "['file1.csv']\n",
      "['file2.csv']\n",
      "['file3.csv']\n",
      "['file4.csv']\n",
      "['file5.csv']\n",
      "['file6.csv', 'file7.csv']\n"
     ]
    }
   ],
   "source": [
    "for zipf in zip_files :\n",
    "    with ZipFile(\"data/\" + zipf,'r') as zf :  \n",
    "        print(zf.namelist())"
   ]
  },
  {
   "cell_type": "markdown",
   "metadata": {},
   "source": [
    "Q: What do you notice about the contents of the zips? \n",
    "\n",
    "A: ?? \n",
    "\n",
    "Now, we're getting close. At this point, we'd like to do something like the following:\n",
    "\n",
    "1. Open a zip file\n",
    "1. Get a list of the files in there\n",
    "1. Read those files as we've read plain text files before."
   ]
  },
  {
   "cell_type": "code",
   "execution_count": 46,
   "metadata": {},
   "outputs": [
    {
     "name": "stdout",
     "output_type": "stream",
     "text": [
      "b'\"Sepal.Length\"\\t\"Sepal.Width\"\\t\"Petal.Length\"\\t\"Petal.Width\"\\t\"Species\"\\r\\n'\n",
      "b'5.1\\t3.5\\t1.4\\t0.2\\t\"setosa\"\\r\\n'\n",
      "b'4.9\\t3\\t1.4\\t0.2\\t\"setosa\"\\r\\n'\n",
      "b'4.7\\t3.2\\t1.3\\t0.2\\t\"setosa\"\\r\\n'\n",
      "b'4.6\\t3.1\\t1.5\\t0.2\\t\"setosa\"\\r\\n'\n"
     ]
    }
   ],
   "source": [
    "this_zf = zip_files[0]\n",
    "\n",
    "with ZipFile(\"data/\" + this_zf,'r') as zf :\n",
    "    zipped_files = zf.namelist()\n",
    "    \n",
    "    for file_name in zipped_files :\n",
    "        #print(file_name)\n",
    "        with zf.open(file_name,'r') as input_file :\n",
    "            for idx, line in enumerate(input_file) :\n",
    "                print(line)\n",
    "                if idx == 4 :\n",
    "                    break\n"
   ]
  },
  {
   "cell_type": "markdown",
   "metadata": {},
   "source": [
    "Let's spend a little time reading what's going on here. \n",
    "\n",
    "Q: What's up with the `b'some string stuff'`? \n",
    "\n",
    "A: ?? \n",
    "\n",
    "\n",
    "Do deal with byte strings, we can use `io.TextIOWrapper` to get the job done."
   ]
  },
  {
   "cell_type": "code",
   "execution_count": 50,
   "metadata": {},
   "outputs": [
    {
     "name": "stdout",
     "output_type": "stream",
     "text": [
      "\"Sepal.Length\"\t\"Sepal.Width\"\t\"Petal.Length\"\t\"Petal.Width\"\t\"Species\"\n",
      "\n",
      "5.1\t3.5\t1.4\t0.2\t\"setosa\"\n",
      "\n",
      "4.9\t3\t1.4\t0.2\t\"setosa\"\n",
      "\n",
      "4.7\t3.2\t1.3\t0.2\t\"setosa\"\n",
      "\n",
      "4.6\t3.1\t1.5\t0.2\t\"setosa\"\n",
      "\n"
     ]
    }
   ],
   "source": [
    "import io\n",
    "\n",
    "this_zf = zip_files[0]\n",
    "\n",
    "with ZipFile(\"data/\" + this_zf,'r') as zf :\n",
    "    zipped_files = zf.namelist()\n",
    "    \n",
    "    for file_name in zipped_files :\n",
    "        input_file = zf.open(file_name,'r')\n",
    "        input_file = io.TextIOWrapper(input_file,encoding=\"utf-8\")\n",
    "        \n",
    "        for idx, line in enumerate(input_file) :\n",
    "            print(line)\n",
    "            if idx > 3 :\n",
    "                break\n",
    "\n",
    "        input_file.close() # tidy up"
   ]
  },
  {
   "cell_type": "markdown",
   "metadata": {},
   "source": [
    "Q: What do you notice about this output? \n",
    "\n",
    "A: ??\n",
    "\n",
    "Okay, now we're close to finishing our work with zip files. In the cell below, write code that will \n",
    "\n",
    "1. Iterate over every zip file.\n",
    "1. Print out the name of the containing file. \n",
    "1. Print out the first 3 lines of each file. "
   ]
  },
  {
   "cell_type": "code",
   "execution_count": 70,
   "metadata": {},
   "outputs": [],
   "source": [
    "import csv"
   ]
  },
  {
   "cell_type": "code",
   "execution_count": 90,
   "metadata": {},
   "outputs": [],
   "source": [
    "andrews_list = ['\"Sepal.Length\"', '\"Sepal.Width\"', '\"Petal.Length\"', '\"Petal.Width\"', '\"Species\"']"
   ]
  },
  {
   "cell_type": "code",
   "execution_count": 91,
   "metadata": {},
   "outputs": [
    {
     "data": {
      "text/plain": [
       "['\"Sepal.Length\"',\n",
       " '\"Sepal.Width\"',\n",
       " '\"Petal.Length\"',\n",
       " '\"Petal.Width\"',\n",
       " '\"Species\"']"
      ]
     },
     "execution_count": 91,
     "metadata": {},
     "output_type": "execute_result"
    }
   ],
   "source": [
    "andrews_list"
   ]
  },
  {
   "cell_type": "code",
   "execution_count": 92,
   "metadata": {},
   "outputs": [],
   "source": [
    "first_item = andrews_list[0]"
   ]
  },
  {
   "cell_type": "code",
   "execution_count": 94,
   "metadata": {},
   "outputs": [
    {
     "data": {
      "text/plain": [
       "'Sepal.Length'"
      ]
     },
     "execution_count": 94,
     "metadata": {},
     "output_type": "execute_result"
    }
   ],
   "source": [
    "first_item.strip('\"')"
   ]
  },
  {
   "cell_type": "code",
   "execution_count": 96,
   "metadata": {},
   "outputs": [
    {
     "data": {
      "text/plain": [
       "'Sepal.Length'"
      ]
     },
     "execution_count": 96,
     "metadata": {},
     "output_type": "execute_result"
    }
   ],
   "source": [
    "first_item.replace('\"','')"
   ]
  },
  {
   "cell_type": "code",
   "execution_count": 128,
   "metadata": {},
   "outputs": [],
   "source": [
    "headers = ['Sepal.Length','Sepal.Width', 'Petal.Length', 'Petal.Width', 'Species']"
   ]
  },
  {
   "cell_type": "code",
   "execution_count": 129,
   "metadata": {},
   "outputs": [
    {
     "name": "stdout",
     "output_type": "stream",
     "text": [
      "Processing file1.csv now.\n",
      "['Sepal.Length', 'Sepal.Width', 'Petal.Length', 'Petal.Width', 'Species']\n",
      "['5.1', '3.5', '1.4', '0.2', 'setosa']\n",
      "['4.9', '3', '1.4', '0.2', 'setosa']\n",
      "['4.7', '3.2', '1.3', '0.2', 'setosa']\n",
      "Processing file2.csv now.\n",
      "['Sepal.Length', 'Sepal.Width', 'Petal.Length', 'Petal.Width', 'Species']\n",
      "['5.1', '3.5', '1.4', '0.2', 'setosa']\n",
      "['4.9', '3', '1.4', '0.2', 'setosa']\n",
      "['4.7', '3.2', '1.3', '0.2', 'setosa']\n",
      "Processing file3.csv now.\n",
      "['5.1', '3.5', '1.4', '0.2', 'setosa']\n",
      "['4.9', '3', '1.4', '0.2', 'setosa']\n",
      "['4.7', '3.2', '1.3', '0.2', 'setosa']\n",
      "Processing file4.csv now.\n",
      "['5.1', '3.5', '1.4', '0.2', 'setosa']\n",
      "['4.9', '3', '1.4', '0.2', 'setosa']\n",
      "['4.7', '3.2', '1.3', '0.2', 'setosa']\n",
      "Processing file5.csv now.\n",
      "['Sepal.Length', 'Sepal.Width', 'Petal.Length', 'Petal.Width', 'Species']\n",
      "['5.1', '3.5', '1.4', '0.2', 'setosa']\n",
      "['4.9', '3', '1.4', '0.2', 'setosa']\n",
      "['4.7', '3.2', '1.3', '0.2', 'setosa']\n",
      "Processing file6.csv now.\n",
      "['5.1', '3.5', '1.4', '0.2', 'setosa']\n",
      "['4.9', '3', '1.4', '0.2', 'setosa']\n",
      "['4.7', '3.2', '1.3', '0.2', 'setosa']\n",
      "Processing file7.csv now.\n",
      "['Sepal.Length', 'Sepal.Width', 'Petal.Length', 'Petal.Width', 'Species']\n",
      "['5.1', '3.5', '1.4', '0.2', 'setosa']\n",
      "['4.9', '3', '1.4', '0.2', 'setosa']\n",
      "['4.7', '3.2', '1.3', '0.2', 'setosa']\n"
     ]
    }
   ],
   "source": [
    "# your code here\n",
    "\n",
    "zip_files = os.listdir(\"data\")\n",
    "\n",
    "if not os.path.isdir(\"temp_clean\") : # if folder exists\n",
    "    os.mkdir(\"temp_clean\")           # if not, make it\n",
    "\n",
    "for zip_file in zip_files :\n",
    "    \n",
    "    with ZipFile(\"data/\" + zip_file,'r') as my_zip_file : \n",
    "    \n",
    "        files_inside = my_zip_file.namelist()\n",
    "        for zipped_file in files_inside :\n",
    "            sniffer = csv.Sniffer()\n",
    "\n",
    "            print(f\"Processing {zipped_file} now.\")\n",
    "            \n",
    "            with my_zip_file.open(zipped_file,'r') as input_file :\n",
    "                \n",
    "                output_file_name = input_file.name.replace(\".csv\",\"_clean.csv\")\n",
    "\n",
    "                with open(\"temp_clean/\" + output_file_name,'w') as outfile : \n",
    "                    outfile.write(\"\\t\".join(headers) + \"\\n\")\n",
    "                                    \n",
    "                    rows_printed = 0\n",
    "                    for idx, line in enumerate(input_file) :\n",
    "\n",
    "                        file_has_header = False\n",
    "\n",
    "                        dialect = sniffer.sniff(line.decode(\"utf-8\"))\n",
    "                        line = line.decode(\"utf-8\").strip().split(dialect.delimiter)\n",
    "                        line = [piece.replace('\"','') for piece in line]\n",
    "\n",
    "\n",
    "                        if idx == 0 :\n",
    "                            if 'Sepal' in line[0] :\n",
    "                                file_has_header = True\n",
    "\n",
    "                        if file_has_header and idx == 0 :\n",
    "                            # don't print line\n",
    "                            pass\n",
    "                        else : \n",
    "                            outfile.write(\"\\t\".join(line) + \"\\n\")\n",
    "                            rows_printed += 1\n",
    "    #                             pass \n",
    "    #                         else : \n",
    "    #                             print(line)\n",
    "    #                            print(\"I think it's a header\")\n",
    "\n",
    "\n",
    "\n",
    "    #                     if zipped_file == \"file1.csv\" :\n",
    "    #                         line = line.decode(\"utf-8\").strip().split(\"\\t\")\n",
    "    #                     elif zipped_file in [\"file4.csv\",\"file7.csv\"] :\n",
    "    #                         line = line.decode(\"utf-8\").strip().split(\";\")\n",
    "    #                     else :\n",
    "    #                         line = line.decode(\"utf-8\").strip().split(\",\")\n",
    "\n",
    "    #                    print(line)\n",
    "                        if rows_printed <= 3 :\n",
    "                            print(line)\n",
    "                        \n",
    "        #print(f\"{zip_file} has this inside it {files_inside}\")\n",
    " "
   ]
  },
  {
   "cell_type": "code",
   "execution_count": 120,
   "metadata": {},
   "outputs": [
    {
     "data": {
      "text/plain": [
       "'file1.csv'"
      ]
     },
     "execution_count": 120,
     "metadata": {},
     "output_type": "execute_result"
    }
   ],
   "source": [
    "input_file.name"
   ]
  },
  {
   "cell_type": "code",
   "execution_count": null,
   "metadata": {},
   "outputs": [],
   "source": []
  },
  {
   "cell_type": "code",
   "execution_count": null,
   "metadata": {},
   "outputs": [],
   "source": []
  },
  {
   "cell_type": "markdown",
   "metadata": {},
   "source": [
    "## Checking for delimiters\n",
    "\n",
    "Now that we can get inside these files, let's test for delimiters. First do some Googling and see if you can come up with some good approaches. "
   ]
  },
  {
   "cell_type": "markdown",
   "metadata": {},
   "source": [
    "---\n",
    "\n",
    "Some dead space to make it easier to not peek ahead. Practice the searching!\n",
    "\n",
    "---\n",
    "\n",
    "For real!\n",
    "\n",
    "---\n",
    "\n",
    "Okay, let's get on with it."
   ]
  },
  {
   "cell_type": "markdown",
   "metadata": {},
   "source": [
    "The `csv` module has a super-useful function called `sniffer`. It'll just let you test for delimiters. Let's see it in action. (Also, we're going to store the delimiters in a dictionary keyed to file name so that we can use them later.)"
   ]
  },
  {
   "cell_type": "code",
   "execution_count": 89,
   "metadata": {},
   "outputs": [
    {
     "name": "stdout",
     "output_type": "stream",
     "text": [
      "It looks like file1.csv has delimiter \t .\n",
      "It looks like file2.csv has delimiter , .\n",
      "It looks like file3.csv has delimiter , .\n",
      "It looks like file4.csv has delimiter ; .\n",
      "It looks like file5.csv has delimiter , .\n",
      "It looks like file6.csv has delimiter , .\n",
      "It looks like file7.csv has delimiter ; .\n"
     ]
    }
   ],
   "source": [
    "import csv\n",
    "\n",
    "delimiters = dict() \n",
    "\n",
    "# Start by reading in all the files again.\n",
    "\n",
    "for this_zf in zip_files :\n",
    "    with ZipFile(\"data/\" + this_zf,'r') as zf :\n",
    "        zipped_files = zf.namelist()\n",
    "\n",
    "        for file_name in zipped_files :\n",
    "            input_file = zf.open(file_name,'r')\n",
    "            input_file = io.TextIOWrapper(input_file,encoding=\"utf-8\")\n",
    "            \n",
    "            dialect = csv.Sniffer().sniff(sample=input_file.readline(),\n",
    "                                          delimiters=[\",\",\";\",\"\\t\"])\n",
    "            \n",
    "            delimiters[file_name] = dialect.delimiter\n",
    "            \n",
    "            print(\" \".join([\"It looks like\",\n",
    "                           file_name,\n",
    "                           \"has delimiter\",\n",
    "                           dialect.delimiter,\n",
    "                           \".\"]))\n",
    "\n",
    "            input_file.close() # tidy up"
   ]
  },
  {
   "cell_type": "markdown",
   "metadata": {},
   "source": [
    "Let's read through this and try to interpret what's going on. "
   ]
  },
  {
   "cell_type": "markdown",
   "metadata": {},
   "source": [
    "## Checking for Headers\n",
    "\n",
    "Now that we can find the delimiters, let's check for the presence of headers. First, let's \n",
    "just split the first line based on the delimiter and print that out. "
   ]
  },
  {
   "cell_type": "code",
   "execution_count": null,
   "metadata": {},
   "outputs": [],
   "source": [
    "for this_zf in zip_files :\n",
    "    with ZipFile(\"data/\" + this_zf,'r') as zf :\n",
    "        zipped_files = zf.namelist()\n",
    "\n",
    "        for file_name in zipped_files :\n",
    "            input_file = zf.open(file_name,'r')\n",
    "            input_file = io.TextIOWrapper(input_file,encoding=\"utf-8\")\n",
    "            \n",
    "            this_delimiter = delimiters[file_name]\n",
    "            \n",
    "            for line in input_file :\n",
    "                print(line.strip().split(this_delimiter))\n",
    "                break\n",
    "\n",
    "            input_file.close() # tidy up"
   ]
  },
  {
   "cell_type": "markdown",
   "metadata": {},
   "source": [
    "Now rewrite the above cell so that you test for the presence of a header row and write out the True or False value."
   ]
  },
  {
   "cell_type": "code",
   "execution_count": null,
   "metadata": {},
   "outputs": [],
   "source": [
    "# your code here"
   ]
  },
  {
   "cell_type": "markdown",
   "metadata": {},
   "source": [
    "##  Mix of Quotes and Not\n",
    "\n",
    "There are some simple ways we can probably deal with quotes for the Wedge. If we get here, we'll discuss. "
   ]
  }
 ],
 "metadata": {
  "kernelspec": {
   "display_name": "Python 3",
   "language": "python",
   "name": "python3"
  },
  "language_info": {
   "codemirror_mode": {
    "name": "ipython",
    "version": 3
   },
   "file_extension": ".py",
   "mimetype": "text/x-python",
   "name": "python",
   "nbconvert_exporter": "python",
   "pygments_lexer": "ipython3",
   "version": "3.7.3"
  }
 },
 "nbformat": 4,
 "nbformat_minor": 2
}
